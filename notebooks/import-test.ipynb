{
 "cells": [
  {
   "cell_type": "code",
   "execution_count": 1,
   "id": "specialized-criticism",
   "metadata": {},
   "outputs": [
    {
     "name": "stdout",
     "output_type": "stream",
     "text": [
      "['/home/roiak/hacks/hack-7-scripting/notebooks', '/home/roiak/miniconda3/lib/python38.zip', '/home/roiak/miniconda3/lib/python3.8', '/home/roiak/miniconda3/lib/python3.8/lib-dynload', '', '/home/roiak/miniconda3/lib/python3.8/site-packages', '/home/roiak/miniconda3/lib/python3.8/site-packages/IPython/extensions', '/home/roiak/.ipython']\n"
     ]
    }
   ],
   "source": [
    "# import sys from the standard lib\n",
    "import sys\n",
    "print(sys.path)"
   ]
  },
  {
   "cell_type": "code",
   "execution_count": 2,
   "id": "textile-retail",
   "metadata": {},
   "outputs": [
    {
     "name": "stdout",
     "output_type": "stream",
     "text": [
      "['/home/roiak/hacks/hack-7-scripting/notebooks', '/home/roiak/miniconda3/lib/python38.zip', '/home/roiak/miniconda3/lib/python3.8', '/home/roiak/miniconda3/lib/python3.8/lib-dynload', '', '/home/roiak/miniconda3/lib/python3.8/site-packages', '/home/roiak/miniconda3/lib/python3.8/site-packages/IPython/extensions', '/home/roiak/.ipython', '../']\n"
     ]
    }
   ],
   "source": [
    "import sys\n",
    "\n",
    "# append your current parent dir to the sys.path list\n",
    "sys.path.append(\"../\")\n",
    "\n",
    "# show the updated sys.path \n",
    "print(sys.path)"
   ]
  },
  {
   "cell_type": "code",
   "execution_count": 3,
   "id": "fewer-literature",
   "metadata": {},
   "outputs": [
    {
     "data": {
      "text/plain": [
       "'Without a doubt.'"
      ]
     },
     "execution_count": 3,
     "metadata": {},
     "output_type": "execute_result"
    }
   ],
   "source": [
    "import mypackage.mymodule\n",
    "mypackage.mymodule.magic_eight_ball()"
   ]
  },
  {
   "cell_type": "code",
   "execution_count": 4,
   "id": "vulnerable-envelope",
   "metadata": {},
   "outputs": [
    {
     "data": {
      "text/plain": [
       "'You may rely on it.'"
      ]
     },
     "execution_count": 4,
     "metadata": {},
     "output_type": "execute_result"
    }
   ],
   "source": [
    "from mypackage import mymodule\n",
    "mymodule.magic_eight_ball()"
   ]
  },
  {
   "cell_type": "code",
   "execution_count": 5,
   "id": "threatened-license",
   "metadata": {},
   "outputs": [
    {
     "data": {
      "text/plain": [
       "'Cannot predict now.'"
      ]
     },
     "execution_count": 5,
     "metadata": {},
     "output_type": "execute_result"
    }
   ],
   "source": [
    "from mypackage.mymodule import magic_eight_ball\n",
    "magic_eight_ball()"
   ]
  },
  {
   "cell_type": "code",
   "execution_count": 20,
   "id": "northern-amount",
   "metadata": {},
   "outputs": [
    {
     "data": {
      "text/plain": [
       "'Better not tell you now.'"
      ]
     },
     "execution_count": 20,
     "metadata": {},
     "output_type": "execute_result"
    }
   ],
   "source": [
    "# this workflow is not yet supported\n",
    "import mypackage\n",
    "mypackage.mymodule.magic_eight_ball()"
   ]
  },
  {
   "cell_type": "code",
   "execution_count": 8,
   "id": "substantial-cross",
   "metadata": {},
   "outputs": [
    {
     "data": {
      "text/plain": [
       "'Outlook not so good'"
      ]
     },
     "execution_count": 8,
     "metadata": {},
     "output_type": "execute_result"
    }
   ],
   "source": [
    "# add our local package scope to sys.path\n",
    "import sys\n",
    "sys.path.append(\"..\")\n",
    "\n",
    "# access our module function from the package-level import\n",
    "import mypackage\n",
    "mypackage.mymodule.magic_eight_ball()\n",
    "\n",
    "# show the package-level docstring\n",
    "mypackage?"
   ]
  }
 ],
 "metadata": {
  "kernelspec": {
   "display_name": "Python 3",
   "language": "python",
   "name": "python3"
  },
  "language_info": {
   "codemirror_mode": {
    "name": "ipython",
    "version": 3
   },
   "file_extension": ".py",
   "mimetype": "text/x-python",
   "name": "python",
   "nbconvert_exporter": "python",
   "pygments_lexer": "ipython3",
   "version": "3.8.5"
  }
 },
 "nbformat": 4,
 "nbformat_minor": 5
}
